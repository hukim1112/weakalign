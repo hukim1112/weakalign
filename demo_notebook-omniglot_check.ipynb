{
 "cells": [
  {
   "cell_type": "markdown",
   "metadata": {},
   "source": [
    "# WeakAlign demo notebook\n",
    "\n",
    "This notebook shows how to run a trained model on a given image pair"
   ]
  },
  {
   "cell_type": "markdown",
   "metadata": {},
   "source": [
    "## Imports"
   ]
  },
  {
   "cell_type": "code",
   "execution_count": 1,
   "metadata": {},
   "outputs": [],
   "source": [
    "from __future__ import print_function, division\n",
    "import os\n",
    "from os.path import exists\n",
    "import argparse\n",
    "import torch\n",
    "import torch.nn as nn\n",
    "from torch.utils.data import Dataset, DataLoader\n",
    "from model.cnn_geometric_model import CNNGeometric, TwoStageCNNGeometric\n",
    "from data.pf_dataset import PFDataset\n",
    "from data.download_datasets import download_PF_pascal\n",
    "from image.normalization import NormalizeImageDict, normalize_image\n",
    "from util.torch_util import BatchTensorToVars, str_to_bool\n",
    "from geotnf.transformation import GeometricTnf\n",
    "from geotnf.point_tnf import *\n",
    "import matplotlib.pyplot as plt\n",
    "from skimage import io\n",
    "import warnings\n",
    "from torchvision.transforms import Normalize\n",
    "from collections import OrderedDict\n",
    "import torch.nn.functional as F\n",
    "\n",
    "warnings.filterwarnings('ignore')"
   ]
  },
  {
   "cell_type": "code",
   "execution_count": 2,
   "metadata": {},
   "outputs": [],
   "source": [
    "from __future__ import print_function\n",
    "from PIL import Image\n",
    "import numpy as np\n",
    "import tensorflow as tf\n",
    "import os\n",
    "import glob\n",
    "import matplotlib.pyplot as plt\n",
    "%matplotlib inline"
   ]
  },
  {
   "cell_type": "code",
   "execution_count": 3,
   "metadata": {},
   "outputs": [],
   "source": [
    "from model.loss import TransformedGridLoss, WeakInlierCount, TwoStageWeakInlierCount"
   ]
  },
  {
   "cell_type": "markdown",
   "metadata": {},
   "source": [
    "## Parameters"
   ]
  },
  {
   "cell_type": "code",
   "execution_count": 4,
   "metadata": {},
   "outputs": [],
   "source": [
    "# Select one of the following models:\n",
    "# cnngeo_vgg16, cnngeo_resnet101, proposed_resnet101\n",
    "model_selection = 'proposed_resnet101' \n",
    "\n",
    "model_aff_path = ''\n",
    "model_tps_path = ''\n",
    "model_aff_tps_path = ''\n",
    "\n",
    "if model_selection=='cnngeo_vgg16':\n",
    "    model_aff_path = 'trained_models/trained_models/cnngeo_vgg16_affine.pth.tar'\n",
    "    model_tps_path = 'trained_models/trained_models/cnngeo_vgg16_tps.pth.tar'\n",
    "    feature_extraction_cnn = 'vgg'\n",
    "    \n",
    "elif model_selection=='cnngeo_resnet101':\n",
    "    model_aff_path = 'trained_models/trained_models/cnngeo_resnet101_affine.pth.tar'\n",
    "    model_tps_path = 'trained_models/trained_models/cnngeo_resnet101_tps.pth.tar'   \n",
    "    feature_extraction_cnn = 'resnet101'\n",
    "    \n",
    "elif model_selection=='proposed_resnet101':\n",
    "    model_aff_tps_path = 'trained_models/weakalign_resnet101_affine_tps.pth.tar'\n",
    "    feature_extraction_cnn = 'resnet101'\n",
    "    \n",
    "\n",
    "# source_image_path='datasets/proposal-flow-pascal/PF-dataset-PASCAL/JPEGImages/2008_006325.jpg'\n",
    "# target_image_path='datasets/proposal-flow-pascal/PF-dataset-PASCAL/JPEGImages/2010_004954.jpg'\n",
    "# source_image_path='datasets/1.jpg'\n",
    "# target_image_path='datasets/2.jpg'\n",
    "# source_image_path='datasets/3.JPEG'\n",
    "# target_image_path='datasets/4.JPEG'\n",
    "\n",
    "flowers = ['datasets/1.jpg', 'datasets/2.jpg']\n",
    "dogs = ['datasets/3.JPEG', 'datasets/4.JPEG']\n",
    "armours = ['datasets/5.JPEG', 'datasets/6.JPEG']\n",
    "# if not exists(source_image_path):\n",
    "#     download_PF_pascal('datasets/proposal-flow-pascal/')"
   ]
  },
  {
   "cell_type": "code",
   "execution_count": 5,
   "metadata": {},
   "outputs": [],
   "source": [
    "source_image_path = dogs[0]\n",
    "target_image_path = flowers[1]"
   ]
  },
  {
   "cell_type": "markdown",
   "metadata": {},
   "source": [
    "## Load models"
   ]
  },
  {
   "cell_type": "code",
   "execution_count": 6,
   "metadata": {},
   "outputs": [],
   "source": [
    "use_cuda = torch.cuda.is_available()\n",
    "\n",
    "model = TwoStageCNNGeometric(use_cuda=use_cuda,\n",
    "                             return_correlation=True,\n",
    "                             feature_extraction_cnn=feature_extraction_cnn)\n",
    "\n",
    "# load pre-trained model\n",
    "if model_aff_tps_path!='':\n",
    "    checkpoint = torch.load(model_aff_tps_path, map_location=lambda storage, loc: storage)\n",
    "    checkpoint['state_dict'] = OrderedDict([(k.replace('vgg', 'model'), v) for k, v in checkpoint['state_dict'].items()])\n",
    "        \n",
    "    for name, param in model.FeatureExtraction.state_dict().items():\n",
    "        model.FeatureExtraction.state_dict()[name].copy_(checkpoint['state_dict']['FeatureExtraction.' + name])    \n",
    "    for name, param in model.FeatureRegression.state_dict().items():\n",
    "        model.FeatureRegression.state_dict()[name].copy_(checkpoint['state_dict']['FeatureRegression.' + name])\n",
    "    for name, param in model.FeatureRegression2.state_dict().items():\n",
    "        model.FeatureRegression2.state_dict()[name].copy_(checkpoint['state_dict']['FeatureRegression2.' + name])    \n",
    "else:\n",
    "    checkpoint_aff = torch.load(model_aff_path, map_location=lambda storage, loc: storage)\n",
    "    checkpoint_aff['state_dict'] = OrderedDict([(k.replace('vgg', 'model'), v) for k, v in checkpoint_aff['state_dict'].items()])\n",
    "    for name, param in model.FeatureExtraction.state_dict().items():\n",
    "        model.FeatureExtraction.state_dict()[name].copy_(checkpoint_aff['state_dict']['FeatureExtraction.' + name])    \n",
    "    for name, param in model.FeatureRegression.state_dict().items():\n",
    "        model.FeatureRegression.state_dict()[name].copy_(checkpoint_aff['state_dict']['FeatureRegression.' + name])\n",
    "\n",
    "    checkpoint_tps = torch.load(model_tps_path, map_location=lambda storage, loc: storage)\n",
    "    checkpoint_tps['state_dict'] = OrderedDict([(k.replace('vgg', 'model'), v) for k, v in checkpoint_tps['state_dict'].items()])\n",
    "    for name, param in model.FeatureRegression2.state_dict().items():\n",
    "        model.FeatureRegression2.state_dict()[name].copy_(checkpoint_tps['state_dict']['FeatureRegression.' + name])"
   ]
  },
  {
   "cell_type": "markdown",
   "metadata": {},
   "source": [
    "## Create image transformers"
   ]
  },
  {
   "cell_type": "code",
   "execution_count": 7,
   "metadata": {},
   "outputs": [],
   "source": [
    "tpsTnf = GeometricTnf(geometric_model='tps', use_cuda=use_cuda)\n",
    "affTnf = GeometricTnf(geometric_model='affine', use_cuda=use_cuda)"
   ]
  },
  {
   "cell_type": "markdown",
   "metadata": {},
   "source": [
    "## Load and preprocess images"
   ]
  },
  {
   "cell_type": "code",
   "execution_count": 8,
   "metadata": {},
   "outputs": [],
   "source": [
    "resizeCNN = GeometricTnf(out_h=240, out_w=240, use_cuda = False) \n",
    "normalizeTnf = Normalize(mean=[0.485, 0.456, 0.406], std=[0.229, 0.224, 0.225])\n",
    "\n",
    "def preprocess_image(image):\n",
    "    # convert to torch Variable\n",
    "    image = np.expand_dims(image.transpose((2,0,1)),0)\n",
    "    image = torch.Tensor(image.astype(np.float32)/255.0)\n",
    "    image_var = Variable(image,requires_grad=False)\n",
    "\n",
    "    # Resize image using bilinear sampling with identity affine tnf\n",
    "    image_var = resizeCNN(image_var)\n",
    "    \n",
    "    # Normalize image\n",
    "    image_var = normalize_image(image_var)\n",
    "    \n",
    "    return image_var"
   ]
  },
  {
   "cell_type": "code",
   "execution_count": 10,
   "metadata": {},
   "outputs": [],
   "source": [
    "n_epochs = 20\n",
    "n_episodes = 100\n",
    "n_way = 20\n",
    "n_shot = 5\n",
    "n_query = 5\n",
    "n_examples = 20\n",
    "im_width, im_height, channels = 28, 28, 1\n",
    "h_dim = 64\n",
    "z_dim = 64"
   ]
  },
  {
   "cell_type": "code",
   "execution_count": 35,
   "metadata": {},
   "outputs": [
    {
     "name": "stdout",
     "output_type": "stream",
     "text": [
      "(4112, 20, 28, 28)\n"
     ]
    }
   ],
   "source": [
    "# Load Train Dataset\n",
    "data_generator_path = os.environ['DATA_GENERATOR']\n",
    "train_split_path = os.path.join(data_generator_path, 'labels/omniglot', 'train.txt')\n",
    "with open(train_split_path, 'r') as train_split:\n",
    "    train_classes = [line.rstrip() for line in train_split.readlines()]\n",
    "n_classes = len(train_classes)\n",
    "train_dataset = np.zeros([n_classes, n_examples, im_height, im_width], dtype=np.float32)\n",
    "for i, tc in enumerate(train_classes):\n",
    "    alphabet, character, rotation = tc.split('/')\n",
    "    rotation = float(rotation[3:])\n",
    "    im_dir = os.path.join(data_generator_path, 'datasets/omniglot', alphabet, character)\n",
    "    im_files = sorted(glob.glob(os.path.join(im_dir, '*.png')))\n",
    "    for j, im_file in enumerate(im_files):\n",
    "        im = 1. - np.array(Image.open(im_file).rotate(rotation).resize((im_width, im_height)), np.float32, copy=False)\n",
    "        train_dataset[i, j] = im\n",
    "print(train_dataset.shape)"
   ]
  },
  {
   "cell_type": "code",
   "execution_count": 36,
   "metadata": {},
   "outputs": [],
   "source": [
    "char1_1 = train_dataset[10][0]\n",
    "char1_2 = train_dataset[10][1]\n",
    "\n",
    "char2_1 = train_dataset[1][0]\n",
    "char2_2 = train_dataset[1][1]"
   ]
  },
  {
   "cell_type": "code",
   "execution_count": 50,
   "metadata": {},
   "outputs": [],
   "source": [
    "source_img = char1_1\n",
    "target_img = char2_2\n",
    "\n",
    "source_image = np.stack((source_img,)*3, axis=-1)\n",
    "target_image = np.stack((target_img,)*3, axis=-1)"
   ]
  },
  {
   "cell_type": "code",
   "execution_count": 51,
   "metadata": {},
   "outputs": [
    {
     "data": {
      "text/plain": [
       "<matplotlib.image.AxesImage at 0x7fa3600ff438>"
      ]
     },
     "execution_count": 51,
     "metadata": {},
     "output_type": "execute_result"
    },
    {
     "data": {
      "image/png": "[encoded data removed]",
      "text/plain": [
       "<Figure size 432x288 with 1 Axes>"
      ]
     },
     "metadata": {
      "needs_background": "light"
     },
     "output_type": "display_data"
    }
   ],
   "source": [
    "plt.imshow(source_image)"
   ]
  },
  {
   "cell_type": "code",
   "execution_count": 52,
   "metadata": {},
   "outputs": [
    {
     "data": {
      "text/plain": [
       "<matplotlib.image.AxesImage at 0x7fa35b7d6a20>"
      ]
     },
     "execution_count": 52,
     "metadata": {},
     "output_type": "execute_result"
    },
    {
     "data": {
      "image/png": "[encoded data removed]",
      "text/plain": [
       "<Figure size 432x288 with 1 Axes>"
      ]
     },
     "metadata": {
      "needs_background": "light"
     },
     "output_type": "display_data"
    }
   ],
   "source": [
    "plt.imshow(target_image)"
   ]
  },
  {
   "cell_type": "code",
   "execution_count": 53,
   "metadata": {},
   "outputs": [],
   "source": [
    "# source_image = io.imread(source_image_path)\n",
    "# target_image = io.imread(target_image_path)\n",
    "\n",
    "# source_image_var = preprocess_image(source_image)\n",
    "# target_image_var = preprocess_image(target_image)\n",
    "\n",
    "# if use_cuda:\n",
    "#     source_image_var = source_image_var.cuda()\n",
    "#     target_image_var = target_image_var.cuda()\n",
    "\n",
    "# batch = {'source_image': source_image_var, 'target_image':target_image_var}\n",
    "\n",
    "# resizeTgt = GeometricTnf(out_h=target_image.shape[0], out_w=target_image.shape[1], use_cuda = use_cuda) "
   ]
  },
  {
   "cell_type": "code",
   "execution_count": 54,
   "metadata": {},
   "outputs": [],
   "source": [
    "source_image_var = preprocess_image(source_image)\n",
    "target_image_var = preprocess_image(target_image)\n",
    "\n",
    "if use_cuda:\n",
    "    source_image_var = source_image_var.cuda()\n",
    "    target_image_var = target_image_var.cuda()\n",
    "\n",
    "batch = {'source_image': source_image_var, 'target_image':target_image_var}\n",
    "\n",
    "resizeTgt = GeometricTnf(out_h=target_image.shape[0], out_w=target_image.shape[1], use_cuda = use_cuda) "
   ]
  },
  {
   "cell_type": "markdown",
   "metadata": {},
   "source": [
    "## Evaluate model"
   ]
  },
  {
   "cell_type": "code",
   "execution_count": 55,
   "metadata": {},
   "outputs": [],
   "source": [
    "model.eval()\n",
    "\n",
    "# Evaluate model\n",
    "#theta_aff,theta_aff_tps=model(batch)\n",
    "theta_aff,theta_aff_tps,corr_aff,corr_aff_tps=model(batch)"
   ]
  },
  {
   "cell_type": "code",
   "execution_count": 56,
   "metadata": {},
   "outputs": [
    {
     "name": "stdout",
     "output_type": "stream",
     "text": [
      "theta_aff : \n",
      " 0.9695 -0.1475  0.0845  0.1470  0.9551  0.1584\n",
      "[torch.cuda.FloatTensor of size 1x6 (GPU 0)]\n",
      ", theta_aff_tps : \n",
      "\n",
      "Columns 0 to 9 \n",
      "-1.0751 -1.1727 -1.0163  0.0118  0.1736 -0.0027  0.9296  0.9355  0.9383 -1.1194\n",
      "\n",
      "Columns 10 to 17 \n",
      "-0.0667  0.7627 -1.2566  0.1773  0.9347 -0.9542 -0.1518  0.9336\n",
      "[torch.cuda.FloatTensor of size 1x18 (GPU 0)]\n",
      "\n"
     ]
    }
   ],
   "source": [
    "print(\"theta_aff : {}, theta_aff_tps : {}\".format(theta_aff.data, theta_aff_tps.data))"
   ]
  },
  {
   "cell_type": "code",
   "execution_count": 57,
   "metadata": {},
   "outputs": [],
   "source": [
    "arg_groups = {'tps_grid_size': 3, 'tps_reg_factor': 0.2, 'normalize_inlier_count': True, 'dilation_filter': 0, 'use_conv_filter': False}"
   ]
  },
  {
   "cell_type": "code",
   "execution_count": 58,
   "metadata": {},
   "outputs": [],
   "source": [
    "inliersAffine = WeakInlierCount(geometric_model='affine',**arg_groups)\n",
    "#inliersTps = WeakInlierCount(geometric_model='tps',**arg_groups['weak_loss'])\n",
    "inliersComposed = TwoStageWeakInlierCount(use_cuda=use_cuda,**arg_groups)"
   ]
  },
  {
   "cell_type": "code",
   "execution_count": 59,
   "metadata": {},
   "outputs": [],
   "source": [
    "inliers_comp = inliersComposed(matches=corr_aff,\n",
    "                                                 theta_aff=theta_aff,\n",
    "                                                 theta_aff_tps=theta_aff_tps)"
   ]
  },
  {
   "cell_type": "code",
   "execution_count": 60,
   "metadata": {},
   "outputs": [],
   "source": [
    "inliers_aff = inliersAffine(matches=corr_aff,\n",
    "                                theta=theta_aff)"
   ]
  },
  {
   "cell_type": "markdown",
   "metadata": {},
   "source": [
    "## Compute warped images"
   ]
  },
  {
   "cell_type": "code",
   "execution_count": 61,
   "metadata": {},
   "outputs": [],
   "source": [
    "def affTpsTnf(source_image, theta_aff, theta_aff_tps, use_cuda=use_cuda):\n",
    "    tpstnf = GeometricTnf(geometric_model = 'tps',use_cuda=use_cuda)\n",
    "    sampling_grid = tpstnf(image_batch=source_image,\n",
    "                           theta_batch=theta_aff_tps,\n",
    "                           return_sampling_grid=True)[1]\n",
    "    X = sampling_grid[:,:,:,0].unsqueeze(3)\n",
    "    Y = sampling_grid[:,:,:,1].unsqueeze(3)\n",
    "    Xp = X*theta_aff[:,0].unsqueeze(1).unsqueeze(2)+Y*theta_aff[:,1].unsqueeze(1).unsqueeze(2)+theta_aff[:,2].unsqueeze(1).unsqueeze(2)\n",
    "    Yp = X*theta_aff[:,3].unsqueeze(1).unsqueeze(2)+Y*theta_aff[:,4].unsqueeze(1).unsqueeze(2)+theta_aff[:,5].unsqueeze(1).unsqueeze(2)\n",
    "    sg = torch.cat((Xp,Yp),3)\n",
    "    warped_image_batch = F.grid_sample(source_image, sg)\n",
    "\n",
    "    return warped_image_batch\n",
    "\n",
    "warped_image_aff = affTnf(batch['source_image'],theta_aff.view(-1,2,3))\n",
    "warped_image_aff_tps = affTpsTnf(batch['source_image'],theta_aff,theta_aff_tps)"
   ]
  },
  {
   "cell_type": "markdown",
   "metadata": {},
   "source": [
    "## Display"
   ]
  },
  {
   "cell_type": "code",
   "execution_count": 62,
   "metadata": {},
   "outputs": [
    {
     "name": "stderr",
     "output_type": "stream",
     "text": [
      "Clipping input data to the valid range for imshow with RGB data ([0..1] for floats or [0..255] for integers).\n",
      "Clipping input data to the valid range for imshow with RGB data ([0..1] for floats or [0..255] for integers).\n"
     ]
    },
    {
     "data": {
      "image/png": "[encoded data removed]",
      "text/plain": [
       "<Figure size 900x600 with 4 Axes>"
      ]
     },
     "metadata": {
      "needs_background": "light"
     },
     "output_type": "display_data"
    }
   ],
   "source": [
    "# Un-normalize images and convert to numpy\n",
    "warped_image_aff_np = normalize_image(resizeTgt(warped_image_aff),forward=False).data.squeeze(0).transpose(0,1).transpose(1,2).cpu().numpy()\n",
    "warped_image_aff_tps_np = normalize_image(resizeTgt(warped_image_aff_tps),forward=False).data.squeeze(0).transpose(0,1).transpose(1,2).cpu().numpy()\n",
    "\n",
    "N_subplots = 4\n",
    "fig, axs = plt.subplots(1,N_subplots)\n",
    "axs[0].imshow(source_image)\n",
    "axs[0].set_title('src')\n",
    "axs[1].imshow(target_image)\n",
    "axs[1].set_title('tgt')\n",
    "axs[2].imshow(warped_image_aff_np)\n",
    "axs[2].set_title('aff')\n",
    "axs[3].imshow(warped_image_aff_tps_np)\n",
    "axs[3].set_title('aff+tps')\n",
    "\n",
    "for i in range(N_subplots):\n",
    "    axs[i].axis('off')\n",
    "\n",
    "fig.set_dpi(150)\n",
    "plt.show()"
   ]
  },
  {
   "cell_type": "code",
   "execution_count": 63,
   "metadata": {},
   "outputs": [
    {
     "name": "stdout",
     "output_type": "stream",
     "text": [
      "inliers_aff : \n",
      "1.00000e-02 *\n",
      "  7.7623\n",
      "[torch.cuda.FloatTensor of size 1 (GPU 0)]\n",
      " \n",
      " inliers_comp : \n",
      "1.00000e-02 *\n",
      "  7.9386\n",
      "[torch.cuda.FloatTensor of size 1 (GPU 0)]\n",
      " \n",
      " total \n",
      " 0.1570\n",
      "[torch.cuda.FloatTensor of size 1 (GPU 0)]\n",
      ": \n"
     ]
    }
   ],
   "source": [
    "print(\"inliers_aff : {} \\n inliers_comp : {} \\n total {}: \".format(inliers_aff.data, \n",
    "                                                                 inliers_comp.data, \n",
    "                                                                 inliers_aff.data+inliers_comp.data))"
   ]
  },
  {
   "cell_type": "code",
   "execution_count": null,
   "metadata": {},
   "outputs": [],
   "source": []
  }
 ],
 "metadata": {
  "kernelspec": {
   "display_name": "Python 3",
   "language": "python",
   "name": "python3"
  },
  "language_info": {
   "codemirror_mode": {
    "name": "ipython",
    "version": 3
   },
   "file_extension": ".py",
   "mimetype": "text/x-python",
   "name": "python",
   "nbconvert_exporter": "python",
   "pygments_lexer": "ipython3",
   "version": "3.6.7"
  }
 },
 "nbformat": 4,
 "nbformat_minor": 2
}
